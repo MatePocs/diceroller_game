{
 "cells": [
  {
   "cell_type": "markdown",
   "metadata": {},
   "source": [
    "# Dice Roller - Initial Calculations and Tests"
   ]
  },
  {
   "cell_type": "markdown",
   "metadata": {},
   "source": [
    "## Section 1 - Pen & paper"
   ]
  },
  {
   "cell_type": "code",
   "execution_count": 7,
   "metadata": {},
   "outputs": [
    {
     "data": {
      "text/plain": [
       "3.5"
      ]
     },
     "execution_count": 7,
     "metadata": {},
     "output_type": "execute_result"
    }
   ],
   "source": [
    "# average value of last diceroll\n",
    "sum(range(1,7)) / 6"
   ]
  },
  {
   "cell_type": "code",
   "execution_count": 8,
   "metadata": {},
   "outputs": [],
   "source": [
    "# at position 1, expected value of remaining dice roll, if we choose to reroll: 3.5\n",
    "# decision: reroll if current value < 3.5, equal to reroll if in 1, 2, 3"
   ]
  },
  {
   "cell_type": "code",
   "execution_count": 9,
   "metadata": {},
   "outputs": [
    {
     "data": {
      "text/plain": [
       "4.25"
      ]
     },
     "execution_count": 9,
     "metadata": {},
     "output_type": "execute_result"
    }
   ],
   "source": [
    "# average value of diecroll if we reroll at 2: \n",
    "# <probability of stopping at 1> * <expected value at n-1, assuming we stop there> + \n",
    "# <probability of not stopping at 1> * <expected value rolled at n>\n",
    "prob_of_stopping_at_1 = 0.5\n",
    "expected_value_at_1 = (4 + 5 + 6) / 3\n",
    "expected_value_at_0 = 3.5\n",
    "\n",
    "# putting it together, value if we reroll at n-2:\n",
    "prob_of_stopping_at_1 * expected_value_at_1 + (1-prob_of_stopping_at_1) * expected_value_at_0"
   ]
  },
  {
   "cell_type": "code",
   "execution_count": 10,
   "metadata": {},
   "outputs": [],
   "source": [
    "# if at n - 2, we decide to reroll, and do an n-1th and potentially an nth roll, we can expect 4.25\n",
    "# which means that we reroll at n - 2, if we roll 1, 2, 3, or 4"
   ]
  },
  {
   "cell_type": "code",
   "execution_count": 11,
   "metadata": {},
   "outputs": [
    {
     "data": {
      "text/plain": [
       "4.666666666666667"
      ]
     },
     "execution_count": 11,
     "metadata": {},
     "output_type": "execute_result"
    }
   ],
   "source": [
    "# average value of diecroll if we reroll at n-3: \n",
    "# <probability of stopping at n-2> * <expected value at n-2, assuming we stop there> + \n",
    "# <probability of not stopping at n-2> * <expected value assuming we go into n - 1>\n",
    "prob_of_stopping_at_2 = 1 / 3\n",
    "expected_value_at_2 = (5 + 6) / 2\n",
    "expected_value_at_1 = 4.25\n",
    "\n",
    "prob_of_stopping_at_2 * expected_value_at_2 + (1-prob_of_stopping_at_2) * expected_value_at_1"
   ]
  },
  {
   "cell_type": "code",
   "execution_count": 12,
   "metadata": {},
   "outputs": [],
   "source": [
    "# once again, not rerolling if 5, 6, rerolling otherwise"
   ]
  },
  {
   "cell_type": "code",
   "execution_count": 13,
   "metadata": {},
   "outputs": [],
   "source": [
    " # question: where are we rerolling on 5 ? "
   ]
  },
  {
   "cell_type": "markdown",
   "metadata": {},
   "source": [
    "## Section 2 - Recursive formula"
   ]
  },
  {
   "cell_type": "code",
   "execution_count": 14,
   "metadata": {},
   "outputs": [],
   "source": [
    "import numpy as np\n",
    "\n",
    "def R(i):\n",
    "    \"\"\"\n",
    "    Determines the expected outcome of i remaining dicerolls, \n",
    "    assuming we follow the strategy that maximizes expected value. \n",
    "    \"\"\"\n",
    "    if i == 1:\n",
    "        result = np.mean(range(1,7))\n",
    "    else: \n",
    "        # if we are not in the last diceroll, we are \n",
    "        # - going to re-roll, if current roll will be lower than expected of current -1 R\n",
    "        # - not going to re-roll otherwise\n",
    "        \n",
    "        # probability that we are re-rolling after current: re-rolling 1, ..., k, \n",
    "        # where k is the last integer that is smaller than expected result of future\n",
    "        prob_reroll = int(R(i-1)) / 6\n",
    "        \n",
    "        # if we are not rerolling the current, that means we are at 6, ..., k, \n",
    "        # where k is the firs integer that is higher than expected variable of future rolls\n",
    "        \n",
    "        not_rerolled_outcomes = \\\n",
    "        range(int(R(i-1)) + 1, 7)\n",
    "        \n",
    "        curr_expected_assuming_no_reroll = \\\n",
    "        np.mean(not_rerolled_outcomes)\n",
    "        \n",
    "        result = \\\n",
    "            prob_reroll * R(i-1) + \\\n",
    "            (1 - prob_reroll) * curr_expected_assuming_no_reroll\n",
    "        \n",
    "    return result"
   ]
  },
  {
   "cell_type": "code",
   "execution_count": 15,
   "metadata": {},
   "outputs": [
    {
     "data": {
      "text/plain": [
       "3.5"
      ]
     },
     "execution_count": 15,
     "metadata": {},
     "output_type": "execute_result"
    }
   ],
   "source": [
    "R(1)"
   ]
  },
  {
   "cell_type": "code",
   "execution_count": 16,
   "metadata": {},
   "outputs": [
    {
     "data": {
      "text/plain": [
       "4.25"
      ]
     },
     "execution_count": 16,
     "metadata": {},
     "output_type": "execute_result"
    }
   ],
   "source": [
    "R(2)"
   ]
  },
  {
   "cell_type": "code",
   "execution_count": 17,
   "metadata": {},
   "outputs": [
    {
     "data": {
      "text/plain": [
       "4.666666666666666"
      ]
     },
     "execution_count": 17,
     "metadata": {},
     "output_type": "execute_result"
    }
   ],
   "source": [
    "R(3)"
   ]
  },
  {
   "cell_type": "code",
   "execution_count": 18,
   "metadata": {},
   "outputs": [
    {
     "data": {
      "text/plain": [
       "4.944444444444445"
      ]
     },
     "execution_count": 18,
     "metadata": {},
     "output_type": "execute_result"
    }
   ],
   "source": [
    "R(4)"
   ]
  },
  {
   "cell_type": "code",
   "execution_count": 19,
   "metadata": {},
   "outputs": [
    {
     "data": {
      "text/plain": [
       "5.12962962962963"
      ]
     },
     "execution_count": 19,
     "metadata": {},
     "output_type": "execute_result"
    }
   ],
   "source": [
    "R(5)"
   ]
  },
  {
   "cell_type": "markdown",
   "metadata": {},
   "source": [
    "## Section 3 - Completely Random Simulation"
   ]
  },
  {
   "cell_type": "code",
   "execution_count": 20,
   "metadata": {},
   "outputs": [],
   "source": [
    "import random"
   ]
  },
  {
   "cell_type": "code",
   "execution_count": 21,
   "metadata": {},
   "outputs": [],
   "source": [
    "def dice_roll(side = 6):\n",
    "    \"\"\"\n",
    "    Returns a random integer i, 1 <= i <= side\n",
    "    uniform distribution\n",
    "    side is 6 by default\n",
    "    \"\"\"\n",
    "    return np.random.randint(1,side+1)\n",
    "\n",
    "def random_player_decision_reroll():\n",
    "    \"\"\"\n",
    "    Returns a random True or False\n",
    "    independent of game state\n",
    "    \"\"\"\n",
    "    return random.choice([True, False])\n",
    "\n",
    "# for testing, switch on always true\n",
    "#     return True\n",
    "    \n",
    "# bool(random.getrandbits(1)) is a supposedly faster option"
   ]
  },
  {
   "cell_type": "code",
   "execution_count": 41,
   "metadata": {},
   "outputs": [],
   "source": [
    "def game(number_of_rolls):\n",
    "    \"\"\"\n",
    "    Runs one game in this sequence: \n",
    "   \n",
    "    [\n",
    "        roll a final dice roll\n",
    "    ]\n",
    "        is executed once at the beginning\n",
    "   \n",
    "   [\n",
    "        roll a dice with dice_roll\n",
    "        player has an option to stop or go further, decided by random_player_decision_reroll\n",
    "    ]\n",
    "        is repeated a maximum n-1 times\n",
    "        \n",
    "    assumes that number_of_rolls >= 2\n",
    "    returns the states and the decisions the player made in a tuple, two elements are the two lists\n",
    "    the decisions are always in the form of k times True and then one False\n",
    "    final result of the game is the \n",
    "    \n",
    "    \"\"\"\n",
    "    \n",
    "    state = []\n",
    "    decision = []\n",
    "    \n",
    "    state.append(\"Rem. rolls: \" + str(number_of_rolls - 1) + \" - Die value: \" + str(dice_roll()))\n",
    "    \n",
    "    for i in range(1, number_of_rolls):\n",
    "        player_decision_reroll = random_player_decision_reroll()\n",
    "        decision.append(player_decision_reroll)\n",
    "        if player_decision_reroll:\n",
    "            state.append(\n",
    "                \"Rem. rolls: \" + str(number_of_rolls - i - 1) + \" - Die value: \" + str(dice_roll())\n",
    "            )\n",
    "        else:\n",
    "            break\n",
    "    \n",
    "    return (state, decision)\n",
    "    "
   ]
  },
  {
   "cell_type": "code",
   "execution_count": 42,
   "metadata": {},
   "outputs": [],
   "source": [
    "def game_series(number_of_games, number_of_rolls):\n",
    "    \"\"\"\n",
    "    Runs a game number_of_games times with the number_of_rolls\n",
    "    returns a list of tuples, which are the results of the individual games\n",
    "    list is number_of_games long\n",
    "    \"\"\"\n",
    "    game_series_result = []\n",
    "    for i in range(0, number_of_games):\n",
    "        game_series_result.append(game(number_of_rolls))\n",
    "        \n",
    "    return game_series_result\n",
    "    "
   ]
  },
  {
   "cell_type": "code",
   "execution_count": 43,
   "metadata": {},
   "outputs": [],
   "source": [
    "game_series_result = game_series(10000,3);"
   ]
  },
  {
   "cell_type": "code",
   "execution_count": 44,
   "metadata": {},
   "outputs": [],
   "source": [
    "def get_dice_result(states):\n",
    "    \"\"\"\n",
    "    Input is the state list, returns the last digit of the last element, that is where we stop\n",
    "    \"\"\"\n",
    "    return int(states[len(states)-1][-1])"
   ]
  },
  {
   "cell_type": "code",
   "execution_count": 45,
   "metadata": {},
   "outputs": [],
   "source": [
    "# loop through everything\n",
    "# combine the different state - decision pairs\n",
    "# e.g. Roll 1 - 2 & True\n",
    "# puts those in a list\n",
    "# in another list, put the final results\n",
    "\n",
    "def create_summary_lists(game_series_result_to_process):\n",
    "    \"\"\"\n",
    "    Assumes a game_series_result that is a list of (statelist - decisionlist tuples)\n",
    "    creates two new lists, the length of these is the sum of length of individual states\n",
    "    first list: state and decision pairings\n",
    "    second list: dice result of particular \n",
    "    \"\"\"\n",
    "    state_decision = []\n",
    "    outcome = []\n",
    "    \n",
    "    for current_game_result in game_series_result_to_process: \n",
    "        \n",
    "        current_game_outcome = get_dice_result(current_game_result[0])\n",
    "        current_game_states = current_game_result[0]\n",
    "        current_game_decisions = current_game_result[1]\n",
    "\n",
    "        for i in range(0, len(current_game_decisions)):\n",
    "            state_decision.append(current_game_states[i] + \", Decision: \" + str(current_game_decisions[i]))\n",
    "            outcome.append(current_game_outcome)\n",
    "            \n",
    "    return (state_decision, outcome)\n",
    "    "
   ]
  },
  {
   "cell_type": "code",
   "execution_count": 46,
   "metadata": {},
   "outputs": [],
   "source": [
    "import pandas as pd"
   ]
  },
  {
   "cell_type": "code",
   "execution_count": 47,
   "metadata": {},
   "outputs": [],
   "source": [
    "result_list = create_summary_lists(game_series_result)\n",
    "simulation_df = pd.DataFrame()\n",
    "simulation_df['state_decision'] = result_list[0]\n",
    "simulation_df['outcome'] = result_list[1]"
   ]
  },
  {
   "cell_type": "code",
   "execution_count": 48,
   "metadata": {},
   "outputs": [
    {
     "data": {
      "text/plain": [
       "3.4924318196972726"
      ]
     },
     "execution_count": 48,
     "metadata": {},
     "output_type": "execute_result"
    }
   ],
   "source": [
    "# what is the average of outcomes? i think it's going to be 3.5, \n",
    "# ultimately it is the average of random dice rolls\n",
    "\n",
    "simulation_df['outcome'].mean()"
   ]
  },
  {
   "cell_type": "code",
   "execution_count": 49,
   "metadata": {},
   "outputs": [
    {
     "data": {
      "text/plain": [
       "state_decision\n",
       "Rem. rolls: 1 - Die value: 1, Decision: False    1.000000\n",
       "Rem. rolls: 1 - Die value: 1, Decision: True     3.362025\n",
       "Rem. rolls: 1 - Die value: 2, Decision: False    2.000000\n",
       "Rem. rolls: 1 - Die value: 2, Decision: True     3.508475\n",
       "Rem. rolls: 1 - Die value: 3, Decision: False    3.000000\n",
       "Rem. rolls: 1 - Die value: 3, Decision: True     3.520833\n",
       "Rem. rolls: 1 - Die value: 4, Decision: False    4.000000\n",
       "Rem. rolls: 1 - Die value: 4, Decision: True     3.505800\n",
       "Rem. rolls: 1 - Die value: 5, Decision: False    5.000000\n",
       "Rem. rolls: 1 - Die value: 5, Decision: True     3.533654\n",
       "Rem. rolls: 1 - Die value: 6, Decision: False    6.000000\n",
       "Rem. rolls: 1 - Die value: 6, Decision: True     3.438679\n",
       "Rem. rolls: 2 - Die value: 1, Decision: False    1.000000\n",
       "Rem. rolls: 2 - Die value: 1, Decision: True     3.545018\n",
       "Rem. rolls: 2 - Die value: 2, Decision: False    2.000000\n",
       "Rem. rolls: 2 - Die value: 2, Decision: True     3.444828\n",
       "Rem. rolls: 2 - Die value: 3, Decision: False    3.000000\n",
       "Rem. rolls: 2 - Die value: 3, Decision: True     3.410564\n",
       "Rem. rolls: 2 - Die value: 4, Decision: False    4.000000\n",
       "Rem. rolls: 2 - Die value: 4, Decision: True     3.351285\n",
       "Rem. rolls: 2 - Die value: 5, Decision: False    5.000000\n",
       "Rem. rolls: 2 - Die value: 5, Decision: True     3.561338\n",
       "Rem. rolls: 2 - Die value: 6, Decision: False    6.000000\n",
       "Rem. rolls: 2 - Die value: 6, Decision: True     3.542413\n",
       "Name: outcome, dtype: float64"
      ]
     },
     "execution_count": 49,
     "metadata": {},
     "output_type": "execute_result"
    }
   ],
   "source": [
    "# pretty simple query from this point on\n",
    "# we want to know the average outcomes grouped by state_decisions\n",
    "simulation_df.groupby('state_decision')['outcome'].mean()"
   ]
  },
  {
   "cell_type": "code",
   "execution_count": 57,
   "metadata": {},
   "outputs": [],
   "source": [
    "# the issue is that the steps are random, so if we say go ahead, the expected outcome will be 3.5\n",
    "# trying to group a different way now, by outcome"
   ]
  },
  {
   "cell_type": "code",
   "execution_count": 50,
   "metadata": {},
   "outputs": [],
   "source": [
    "grouped_table = simulation_df.groupby(['outcome','state_decision'])['state_decision'].count()"
   ]
  },
  {
   "cell_type": "code",
   "execution_count": 51,
   "metadata": {},
   "outputs": [],
   "source": [
    "pd.set_option('display.max_rows', 100)"
   ]
  },
  {
   "cell_type": "code",
   "execution_count": 52,
   "metadata": {},
   "outputs": [
    {
     "data": {
      "text/plain": [
       "outcome  state_decision                               \n",
       "1        Rem. rolls: 1 - Die value: 1, Decision: False    438\n",
       "         Rem. rolls: 1 - Die value: 1, Decision: True      70\n",
       "         Rem. rolls: 1 - Die value: 2, Decision: True      66\n",
       "         Rem. rolls: 1 - Die value: 3, Decision: True      80\n",
       "         Rem. rolls: 1 - Die value: 4, Decision: True      71\n",
       "         Rem. rolls: 1 - Die value: 5, Decision: True      73\n",
       "         Rem. rolls: 1 - Die value: 6, Decision: True      71\n",
       "         Rem. rolls: 2 - Die value: 1, Decision: False    786\n",
       "         Rem. rolls: 2 - Die value: 1, Decision: True     147\n",
       "         Rem. rolls: 2 - Die value: 2, Decision: True     146\n",
       "         Rem. rolls: 2 - Die value: 3, Decision: True     154\n",
       "         Rem. rolls: 2 - Die value: 4, Decision: True     159\n",
       "         Rem. rolls: 2 - Die value: 5, Decision: True     127\n",
       "         Rem. rolls: 2 - Die value: 6, Decision: True     136\n",
       "2        Rem. rolls: 1 - Die value: 1, Decision: True      70\n",
       "         Rem. rolls: 1 - Die value: 2, Decision: False    394\n",
       "         Rem. rolls: 1 - Die value: 2, Decision: True      69\n",
       "         Rem. rolls: 1 - Die value: 3, Decision: True      68\n",
       "         Rem. rolls: 1 - Die value: 4, Decision: True      77\n",
       "         Rem. rolls: 1 - Die value: 5, Decision: True      62\n",
       "         Rem. rolls: 1 - Die value: 6, Decision: True      74\n",
       "         Rem. rolls: 2 - Die value: 1, Decision: True     114\n",
       "         Rem. rolls: 2 - Die value: 2, Decision: False    837\n",
       "         Rem. rolls: 2 - Die value: 2, Decision: True     160\n",
       "         Rem. rolls: 2 - Die value: 3, Decision: True     136\n",
       "         Rem. rolls: 2 - Die value: 4, Decision: True     140\n",
       "         Rem. rolls: 2 - Die value: 5, Decision: True     125\n",
       "         Rem. rolls: 2 - Die value: 6, Decision: True     139\n",
       "3        Rem. rolls: 1 - Die value: 1, Decision: True      70\n",
       "         Rem. rolls: 1 - Die value: 2, Decision: True      74\n",
       "         Rem. rolls: 1 - Die value: 3, Decision: False    428\n",
       "         Rem. rolls: 1 - Die value: 3, Decision: True      59\n",
       "         Rem. rolls: 1 - Die value: 4, Decision: True      67\n",
       "         Rem. rolls: 1 - Die value: 5, Decision: True      64\n",
       "         Rem. rolls: 1 - Die value: 6, Decision: True      77\n",
       "         Rem. rolls: 2 - Die value: 1, Decision: True     146\n",
       "         Rem. rolls: 2 - Die value: 2, Decision: True     136\n",
       "         Rem. rolls: 2 - Die value: 3, Decision: False    812\n",
       "         Rem. rolls: 2 - Die value: 3, Decision: True     144\n",
       "         Rem. rolls: 2 - Die value: 4, Decision: True     141\n",
       "         Rem. rolls: 2 - Die value: 5, Decision: True     134\n",
       "         Rem. rolls: 2 - Die value: 6, Decision: True     138\n",
       "4        Rem. rolls: 1 - Die value: 1, Decision: True      75\n",
       "         Rem. rolls: 1 - Die value: 2, Decision: True      73\n",
       "         Rem. rolls: 1 - Die value: 3, Decision: True      74\n",
       "         Rem. rolls: 1 - Die value: 4, Decision: False    420\n",
       "         Rem. rolls: 1 - Die value: 4, Decision: True      67\n",
       "         Rem. rolls: 1 - Die value: 5, Decision: True      75\n",
       "         Rem. rolls: 1 - Die value: 6, Decision: True      64\n",
       "         Rem. rolls: 2 - Die value: 1, Decision: True     138\n",
       "         Rem. rolls: 2 - Die value: 2, Decision: True     150\n",
       "         Rem. rolls: 2 - Die value: 3, Decision: True     140\n",
       "         Rem. rolls: 2 - Die value: 4, Decision: False    907\n",
       "         Rem. rolls: 2 - Die value: 4, Decision: True     141\n",
       "         Rem. rolls: 2 - Die value: 5, Decision: True     152\n",
       "         Rem. rolls: 2 - Die value: 6, Decision: True     127\n",
       "5        Rem. rolls: 1 - Die value: 1, Decision: True      52\n",
       "         Rem. rolls: 1 - Die value: 2, Decision: True      55\n",
       "         Rem. rolls: 1 - Die value: 3, Decision: True      74\n",
       "         Rem. rolls: 1 - Die value: 4, Decision: True      77\n",
       "         Rem. rolls: 1 - Die value: 5, Decision: False    395\n",
       "         Rem. rolls: 1 - Die value: 5, Decision: True      71\n",
       "         Rem. rolls: 1 - Die value: 6, Decision: True      76\n",
       "         Rem. rolls: 2 - Die value: 1, Decision: True     140\n",
       "         Rem. rolls: 2 - Die value: 2, Decision: True     145\n",
       "         Rem. rolls: 2 - Die value: 3, Decision: True     131\n",
       "         Rem. rolls: 2 - Die value: 4, Decision: True     104\n",
       "         Rem. rolls: 2 - Die value: 5, Decision: False    850\n",
       "         Rem. rolls: 2 - Die value: 5, Decision: True     127\n",
       "         Rem. rolls: 2 - Die value: 6, Decision: True     153\n",
       "6        Rem. rolls: 1 - Die value: 1, Decision: True      58\n",
       "         Rem. rolls: 1 - Die value: 2, Decision: True      76\n",
       "         Rem. rolls: 1 - Die value: 3, Decision: True      77\n",
       "         Rem. rolls: 1 - Die value: 4, Decision: True      72\n",
       "         Rem. rolls: 1 - Die value: 5, Decision: True      71\n",
       "         Rem. rolls: 1 - Die value: 6, Decision: False    411\n",
       "         Rem. rolls: 1 - Die value: 6, Decision: True      62\n",
       "         Rem. rolls: 2 - Die value: 1, Decision: True     148\n",
       "         Rem. rolls: 2 - Die value: 2, Decision: True     133\n",
       "         Rem. rolls: 2 - Die value: 3, Decision: True     128\n",
       "         Rem. rolls: 2 - Die value: 4, Decision: True     132\n",
       "         Rem. rolls: 2 - Die value: 5, Decision: True     142\n",
       "         Rem. rolls: 2 - Die value: 6, Decision: False    811\n",
       "         Rem. rolls: 2 - Die value: 6, Decision: True     144\n",
       "Name: state_decision, dtype: int64"
      ]
     },
     "execution_count": 52,
     "metadata": {},
     "output_type": "execute_result"
    }
   ],
   "source": [
    "grouped_table"
   ]
  },
  {
   "cell_type": "code",
   "execution_count": null,
   "metadata": {},
   "outputs": [],
   "source": []
  }
 ],
 "metadata": {
  "kernelspec": {
   "display_name": "Python 3",
   "language": "python",
   "name": "python3"
  },
  "language_info": {
   "codemirror_mode": {
    "name": "ipython",
    "version": 3
   },
   "file_extension": ".py",
   "mimetype": "text/x-python",
   "name": "python",
   "nbconvert_exporter": "python",
   "pygments_lexer": "ipython3",
   "version": "3.7.4"
  }
 },
 "nbformat": 4,
 "nbformat_minor": 2
}

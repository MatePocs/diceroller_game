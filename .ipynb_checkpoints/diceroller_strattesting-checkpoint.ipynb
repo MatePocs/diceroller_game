{
 "cells": [
  {
   "cell_type": "markdown",
   "metadata": {},
   "source": [
    "# Dice Roller - Strategy Result Testing"
   ]
  },
  {
   "cell_type": "markdown",
   "metadata": {},
   "source": [
    "Purpose of this notebook is to provide an environment where it is easy to test different strategies on the dice rolling game. "
   ]
  },
  {
   "cell_type": "code",
   "execution_count": 1,
   "metadata": {},
   "outputs": [],
   "source": [
    "import numpy as np\n",
    "\n",
    "def dice_roll(side = 6):\n",
    "    \"\"\"\n",
    "    Returns a random integer i, 1 <= i <= side\n",
    "    uniform distribution\n",
    "    side is 6 by default\n",
    "    \"\"\"\n",
    "    return np.random.randint(1,side+1)"
   ]
  },
  {
   "cell_type": "code",
   "execution_count": 2,
   "metadata": {},
   "outputs": [],
   "source": [
    "class Player:\n",
    "\n",
    "    # Initializer / Instance Attributes\n",
    "    # strategy is a string\n",
    "    def __init__(self, strategy = \"master\"):\n",
    "        self.strategy = strategy\n",
    "    \n",
    "    # Player has one role: makes a Yes - No decision based on current state\n",
    "    # Coded as True = Yes, meaning the game should roll a new die, \n",
    "    # False = No, the game should stop\n",
    "    \n",
    "    def make_decision(self, state):\n",
    "        \n",
    "        decision = False\n",
    "        remaining_rolls = state.remaining_rolls\n",
    "        current_die_value = state.current_die_value\n",
    "        \n",
    "        if self.strategy == \"master\":\n",
    "            if remaining_rolls == 1:\n",
    "                if current_die_value < 4: decision = True\n",
    "            elif remaining_rolls in [2,3,4]:\n",
    "                if current_die_value < 5: decision = True\n",
    "            else:\n",
    "                if current_die_value < 6: decision = True\n",
    "        elif self.strategy == \"master2\":\n",
    "            decision = True\n",
    "            if current_die_value == 6: decision = False\n",
    "            elif current_die_value == 5 and remaining_rolls <= 4: decision = False\n",
    "            elif current_die_value == 4 and remaining_rolls <= 1: decision = False\n",
    "        elif self.strategy == \"emese\":\n",
    "            if current_die_value < 5 : decision = True\n",
    "        else:\n",
    "            # we have no other strategies coded up\n",
    "            pass\n",
    "        \n",
    "        return decision\n"
   ]
  },
  {
   "cell_type": "code",
   "execution_count": 3,
   "metadata": {},
   "outputs": [],
   "source": [
    "class State: \n",
    "    \n",
    "    def __init__(self, remaining_rolls, current_die_value):\n",
    "        self.remaining_rolls = remaining_rolls\n",
    "        self.current_die_value = current_die_value\n",
    "    \n",
    "    # one round has passed, which means remaining rolls decreased by 1\n",
    "    def one_round_passed(self):\n",
    "        self.remaining_rolls -= 1"
   ]
  },
  {
   "cell_type": "code",
   "execution_count": 4,
   "metadata": {},
   "outputs": [],
   "source": [
    "def game(total_number_of_rolls, player_strategy):\n",
    "    \"\"\"\n",
    "    Runs a game that consists of total_number_of_rolls piece of rolls with the\n",
    "    chosen player strategy. \n",
    "    Can only be \"master\" for now. \n",
    "    \"\"\"\n",
    "    \n",
    "    # initiate state and player\n",
    "    state = State(total_number_of_rolls, 0)\n",
    "    player = Player(player_strategy)\n",
    "    \n",
    "    # we start with one dice roll\n",
    "    state.current_die_value = dice_roll()\n",
    "    state.one_round_passed()\n",
    "    \n",
    "    # then the player has the chance to continue up until the very last row \n",
    "    # at which player decision does not matter anymore\n",
    "    \n",
    "    for i in range(1, total_number_of_rolls):\n",
    "        player_decision = player.make_decision(state)\n",
    "#         print(state.current_die_value)\n",
    "#         print(player_decision)\n",
    "        # uncomment to test decisions by running one game, e.g. game(3, 'emese')\n",
    "        if player_decision:\n",
    "            state.current_die_value = dice_roll()\n",
    "            state.one_round_passed()\n",
    "        else:\n",
    "            break\n",
    "        \n",
    "    outcome = state.current_die_value\n",
    "    \n",
    "    return outcome"
   ]
  },
  {
   "cell_type": "code",
   "execution_count": 5,
   "metadata": {},
   "outputs": [],
   "source": [
    "# now run a series of games, save outcome, then calculate average\n",
    "def game_series(number_of_games, number_of_dice_rolls, player_strategy):\n",
    "    \n",
    "    result_list = []\n",
    "    \n",
    "    for i in range(0, number_of_games):\n",
    "        result_list.append(game(number_of_dice_rolls, player_strategy))\n",
    "        \n",
    "    return result_list\n"
   ]
  },
  {
   "cell_type": "code",
   "execution_count": 9,
   "metadata": {},
   "outputs": [],
   "source": [
    "outcomes = game_series(1000000, 5, \"master\")"
   ]
  },
  {
   "cell_type": "code",
   "execution_count": 10,
   "metadata": {},
   "outputs": [
    {
     "data": {
      "text/plain": [
       "5.13019"
      ]
     },
     "execution_count": 10,
     "metadata": {},
     "output_type": "execute_result"
    }
   ],
   "source": [
    "np.mean(outcomes)"
   ]
  },
  {
   "cell_type": "code",
   "execution_count": 11,
   "metadata": {},
   "outputs": [],
   "source": [
    "outcomes_emese = game_series(1000000, 5, \"emese\")"
   ]
  },
  {
   "cell_type": "code",
   "execution_count": 12,
   "metadata": {},
   "outputs": [
    {
     "data": {
      "text/plain": [
       "5.106125"
      ]
     },
     "execution_count": 12,
     "metadata": {},
     "output_type": "execute_result"
    }
   ],
   "source": [
    "np.mean(outcomes_emese)"
   ]
  },
  {
   "cell_type": "code",
   "execution_count": 13,
   "metadata": {},
   "outputs": [
    {
     "data": {
      "text/plain": [
       "5.129978"
      ]
     },
     "execution_count": 13,
     "metadata": {},
     "output_type": "execute_result"
    }
   ],
   "source": [
    "outcomes = game_series(1000000, 5, \"master2\")\n",
    "np.mean(outcomes)"
   ]
  },
  {
   "cell_type": "code",
   "execution_count": 14,
   "metadata": {},
   "outputs": [
    {
     "data": {
      "text/plain": [
       "5.131498"
      ]
     },
     "execution_count": 14,
     "metadata": {},
     "output_type": "execute_result"
    }
   ],
   "source": [
    "outcomes = game_series(1000000, 5, \"master2\")\n",
    "np.mean(outcomes)"
   ]
  },
  {
   "cell_type": "code",
   "execution_count": null,
   "metadata": {},
   "outputs": [],
   "source": []
  }
 ],
 "metadata": {
  "kernelspec": {
   "display_name": "Python 3",
   "language": "python",
   "name": "python3"
  },
  "language_info": {
   "codemirror_mode": {
    "name": "ipython",
    "version": 3
   },
   "file_extension": ".py",
   "mimetype": "text/x-python",
   "name": "python",
   "nbconvert_exporter": "python",
   "pygments_lexer": "ipython3",
   "version": "3.7.4"
  }
 },
 "nbformat": 4,
 "nbformat_minor": 2
}
